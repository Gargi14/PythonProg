{
 "cells": [
  {
   "cell_type": "code",
   "execution_count": 1,
   "id": "e81dff2f-e90b-46da-9724-2d2ca2d369f7",
   "metadata": {},
   "outputs": [
    {
     "name": "stdout",
     "output_type": "stream",
     "text": [
      "5.0\n"
     ]
    }
   ],
   "source": [
    "x=8\n",
    "y=10\n",
    "result=x//3*3/2+y%2**2\n",
    "print(result)"
   ]
  },
  {
   "cell_type": "code",
   "execution_count": 3,
   "id": "5f08f68b-cd21-48a8-b8ea-162fd1ab5cce",
   "metadata": {},
   "outputs": [
    {
     "name": "stdin",
     "output_type": "stream",
     "text": [
      "How old were u at the time of joining? 22\n",
      "How old are u today? 22\n"
     ]
    },
    {
     "name": "stdout",
     "output_type": "stream",
     "text": [
      "Congratulations on0Years of Service\n"
     ]
    }
   ],
   "source": [
    "start=input('How old were u at the time of joining?')\n",
    "end=input('How old are u today?')\n",
    "\n",
    "print('Congratulations on'+str(int(end)-int(start))+'Years of Service')"
   ]
  },
  {
   "cell_type": "code",
   "execution_count": 5,
   "id": "e2de2ab5-07aa-40f5-8afd-4be5fd92ed70",
   "metadata": {},
   "outputs": [
    {
     "name": "stdout",
     "output_type": "stream",
     "text": [
      "RPO\n"
     ]
    }
   ],
   "source": [
    "x='ACROTE'\n",
    "y='APPLE'\n",
    "z='TOMATO'\n",
    "\n",
    "print(x[2]+y[1]+z[1])"
   ]
  },
  {
   "cell_type": "code",
   "execution_count": 18,
   "id": "94c7cade-4d31-4af3-837c-804f579647e1",
   "metadata": {},
   "outputs": [
    {
     "name": "stdout",
     "output_type": "stream",
     "text": [
      "True\n"
     ]
    }
   ],
   "source": [
    "x='Durga'\n",
    "y='Durga'\n",
    "result=x is y\n",
    "print(result)\n"
   ]
  },
  {
   "cell_type": "markdown",
   "id": "1b032f47-b1f3-41df-a9c9-5670834429e8",
   "metadata": {
    "jp-MarkdownHeadingCollapsed": true
   },
   "source": [
    "a1='10'\n",
    "b1=3\n",
    "c1=a1*b1\n",
    "\n",
    "a2=10\n",
    "b2=3\n",
    "c2=a2/b2\n",
    "type(c2)\n",
    "\n",
    "a3=2.6\n",
    "b3=1\n",
    "c3=a3/b3\n",
    "type(c3)\n"
   ]
  },
  {
   "cell_type": "code",
   "execution_count": 22,
   "id": "fa1b957e-73ae-4cbb-b872-c3dd81ec9f76",
   "metadata": {},
   "outputs": [
    {
     "data": {
      "text/plain": [
       "3"
      ]
     },
     "execution_count": 22,
     "metadata": {},
     "output_type": "execute_result"
    }
   ],
   "source": [
    "13//4\n",
    "3**1\n",
    "23%5"
   ]
  },
  {
   "cell_type": "code",
   "execution_count": 24,
   "id": "7457b367-0b8d-450b-b11b-dc11df7cd27d",
   "metadata": {},
   "outputs": [
    {
     "data": {
      "text/plain": [
       "3.6666666666666665"
      ]
     },
     "execution_count": 24,
     "metadata": {},
     "output_type": "execute_result"
    }
   ],
   "source": [
    "11/3"
   ]
  },
  {
   "cell_type": "code",
   "execution_count": 28,
   "id": "fa9d4d70-f51d-49da-a2eb-cc87bdc777c2",
   "metadata": {},
   "outputs": [
    {
     "data": {
      "text/plain": [
       "True"
      ]
     },
     "execution_count": 28,
     "metadata": {},
     "output_type": "execute_result"
    }
   ],
   "source": [
    "n1=[10,20,30,40,50]\n",
    "n2=[10,20,30,40,50]\n"
   ]
  },
  {
   "cell_type": "code",
   "execution_count": 30,
   "id": "8c20106e-68eb-49aa-a927-ad24b798379b",
   "metadata": {},
   "outputs": [
    {
     "data": {
      "text/plain": [
       "False"
      ]
     },
     "execution_count": 30,
     "metadata": {},
     "output_type": "execute_result"
    }
   ],
   "source": [
    "n1 is n2\n"
   ]
  },
  {
   "cell_type": "code",
   "execution_count": 32,
   "id": "278022e8-3bbd-4977-8b62-99d5737293ec",
   "metadata": {},
   "outputs": [
    {
     "data": {
      "text/plain": [
       "True"
      ]
     },
     "execution_count": 32,
     "metadata": {},
     "output_type": "execute_result"
    }
   ],
   "source": [
    "n1 == n2"
   ]
  },
  {
   "cell_type": "code",
   "execution_count": 34,
   "id": "9ac19dba-1c76-46d0-b77e-ca8640095348",
   "metadata": {},
   "outputs": [],
   "source": [
    "a=1\n",
    "b=3\n",
    "c=5\n",
    "d=7"
   ]
  },
  {
   "cell_type": "code",
   "execution_count": 36,
   "id": "9335cb43-76a4-413a-a111-a8114e578409",
   "metadata": {},
   "outputs": [
    {
     "data": {
      "text/plain": [
       "1"
      ]
     },
     "execution_count": 36,
     "metadata": {},
     "output_type": "execute_result"
    }
   ],
   "source": [
    "a-b//d"
   ]
  },
  {
   "cell_type": "code",
   "execution_count": 38,
   "id": "2ab7e93e-a12d-46a9-94c5-7c552a426974",
   "metadata": {},
   "outputs": [
    {
     "data": {
      "text/plain": [
       "0"
      ]
     },
     "execution_count": 38,
     "metadata": {},
     "output_type": "execute_result"
    }
   ],
   "source": [
    "a**d-1"
   ]
  },
  {
   "cell_type": "code",
   "execution_count": 40,
   "id": "efa4af53-8848-49ed-a4e6-12db09257cfd",
   "metadata": {},
   "outputs": [
    {
     "data": {
      "text/plain": [
       "7"
      ]
     },
     "execution_count": 40,
     "metadata": {},
     "output_type": "execute_result"
    }
   ],
   "source": [
    "a+b*2"
   ]
  },
  {
   "cell_type": "code",
   "execution_count": 42,
   "id": "9879be87-3302-4db8-b45f-d892615e1f4c",
   "metadata": {},
   "outputs": [
    {
     "data": {
      "text/plain": [
       "0"
      ]
     },
     "execution_count": 42,
     "metadata": {},
     "output_type": "execute_result"
    }
   ],
   "source": [
    "a%b-1"
   ]
  },
  {
   "cell_type": "code",
   "execution_count": 44,
   "id": "48857f16-12bf-47b4-a8c2-8c851ea8ba84",
   "metadata": {},
   "outputs": [
    {
     "name": "stdout",
     "output_type": "stream",
     "text": [
      "['A', 'B', ' ', 'C', 'D', 'EF']\n"
     ]
    }
   ],
   "source": [
    "s='AB CD'\n",
    "list=list(s)\n",
    "list.append('EF')\n",
    "print(list)"
   ]
  },
  {
   "cell_type": "code",
   "execution_count": 46,
   "id": "16fd4737-2e6a-417c-9d1d-907a7ec885fe",
   "metadata": {},
   "outputs": [
    {
     "name": "stdout",
     "output_type": "stream",
     "text": [
      "Valid\n"
     ]
    }
   ],
   "source": [
    "a=5\n",
    "b=10\n",
    "c=2\n",
    "d=True\n",
    "\n",
    "x=a+b*c   #25\n",
    "y=a+b/d   #15\n",
    "\n",
    "if x>y:\n",
    "    print('Valid')\n",
    "else:\n",
    "    print('Invalid')"
   ]
  },
  {
   "cell_type": "code",
   "execution_count": 48,
   "id": "54cc31b4-3523-427f-81e6-b225ff8fa259",
   "metadata": {},
   "outputs": [
    {
     "name": "stdin",
     "output_type": "stream",
     "text": [
      "Enter first no 25\n",
      "Enter second no 34\n"
     ]
    },
    {
     "name": "stdout",
     "output_type": "stream",
     "text": [
      "The result:59\n"
     ]
    }
   ],
   "source": [
    "x=input(\"Enter first no\")\n",
    "y=input(\"Enter second no\")\n",
    "print(\"The result:\"+str(int(x)+int(y)))"
   ]
  },
  {
   "cell_type": "code",
   "execution_count": 50,
   "id": "2c367f0e-8b53-475e-8cb8-788595166125",
   "metadata": {},
   "outputs": [
    {
     "data": {
      "text/plain": [
       "float"
      ]
     },
     "execution_count": 50,
     "metadata": {},
     "output_type": "execute_result"
    }
   ],
   "source": [
    "weight=62.4\n",
    "type(weight)"
   ]
  },
  {
   "cell_type": "code",
   "execution_count": 52,
   "id": "4d72e972-8ba1-45c8-8248-fef81f216da7",
   "metadata": {},
   "outputs": [
    {
     "data": {
      "text/plain": [
       "str"
      ]
     },
     "execution_count": 52,
     "metadata": {},
     "output_type": "execute_result"
    }
   ],
   "source": [
    "zip='80098'\n",
    "type(zip)"
   ]
  },
  {
   "cell_type": "code",
   "execution_count": 54,
   "id": "ccbe3e6c-5bbf-4974-adea-a4de083cfc47",
   "metadata": {},
   "outputs": [
    {
     "data": {
      "text/plain": [
       "float"
      ]
     },
     "execution_count": 54,
     "metadata": {},
     "output_type": "execute_result"
    }
   ],
   "source": [
    "value=+23E4\n",
    "type(value)"
   ]
  },
  {
   "cell_type": "code",
   "execution_count": 58,
   "id": "8db27829-de92-4f54-9a4f-c32e64c97d68",
   "metadata": {},
   "outputs": [
    {
     "data": {
      "text/plain": [
       "30"
      ]
     },
     "execution_count": 58,
     "metadata": {},
     "output_type": "execute_result"
    }
   ],
   "source": [
    "a=10+20\n",
    "a"
   ]
  },
  {
   "cell_type": "code",
   "execution_count": 62,
   "id": "83a8f5a3-463c-4991-bba7-7322154f30df",
   "metadata": {},
   "outputs": [
    {
     "data": {
      "text/plain": [
       "'1020'"
      ]
     },
     "execution_count": 62,
     "metadata": {},
     "output_type": "execute_result"
    }
   ],
   "source": [
    "b='10'+'20'\n",
    "b"
   ]
  },
  {
   "cell_type": "code",
   "execution_count": 64,
   "id": "7210d4b2-fef1-45da-9b75-7f05923a3ccd",
   "metadata": {},
   "outputs": [
    {
     "data": {
      "text/plain": [
       "'101010'"
      ]
     },
     "execution_count": 64,
     "metadata": {},
     "output_type": "execute_result"
    }
   ],
   "source": [
    "c='10'*3\n",
    "c"
   ]
  },
  {
   "cell_type": "code",
   "execution_count": 66,
   "id": "2da983ea-456f-4e65-be7d-8d41eea38870",
   "metadata": {},
   "outputs": [
    {
     "data": {
      "text/plain": [
       "False"
      ]
     },
     "execution_count": 66,
     "metadata": {},
     "output_type": "execute_result"
    }
   ],
   "source": [
    "c=bool(\"\")\n",
    "c"
   ]
  },
  {
   "cell_type": "code",
   "execution_count": 68,
   "id": "45a821f5-6f24-4bce-8f51-945a1d227df5",
   "metadata": {},
   "outputs": [
    {
     "data": {
      "text/plain": [
       "True"
      ]
     },
     "execution_count": 68,
     "metadata": {},
     "output_type": "execute_result"
    }
   ],
   "source": [
    "d=bool(\" \")\n",
    "d"
   ]
  },
  {
   "cell_type": "code",
   "execution_count": 72,
   "id": "c31281f9-60d6-4ba4-90b1-7e31122258db",
   "metadata": {},
   "outputs": [
    {
     "data": {
      "text/plain": [
       "17"
      ]
     },
     "execution_count": 72,
     "metadata": {},
     "output_type": "execute_result"
    }
   ],
   "source": [
    "result=(2*(3+4)**2-(3**3)*3)\n",
    "result"
   ]
  },
  {
   "cell_type": "code",
   "execution_count": 74,
   "id": "54825103-16fb-4911-a0bc-d6681ac36704",
   "metadata": {},
   "outputs": [],
   "source": [
    "a=2\n",
    "a+=1\n",
    "a**=2"
   ]
  },
  {
   "cell_type": "code",
   "execution_count": 76,
   "id": "28311899-ce71-4460-a91c-1e1a9881c6e3",
   "metadata": {},
   "outputs": [
    {
     "data": {
      "text/plain": [
       "9"
      ]
     },
     "execution_count": 76,
     "metadata": {},
     "output_type": "execute_result"
    }
   ],
   "source": [
    "a\n"
   ]
  },
  {
   "cell_type": "code",
   "execution_count": 78,
   "id": "1846d7be-fe67-45d7-ad1b-fe086759aee0",
   "metadata": {},
   "outputs": [
    {
     "data": {
      "text/plain": [
       "8"
      ]
     },
     "execution_count": 78,
     "metadata": {},
     "output_type": "execute_result"
    }
   ],
   "source": [
    "8//3*4"
   ]
  },
  {
   "cell_type": "code",
   "execution_count": 80,
   "id": "a92743fd-d826-408a-ae3a-f0a9033d27c9",
   "metadata": {},
   "outputs": [
    {
     "data": {
      "text/plain": [
       "8"
      ]
     },
     "execution_count": 80,
     "metadata": {},
     "output_type": "execute_result"
    }
   ],
   "source": [
    "8%3*4"
   ]
  },
  {
   "cell_type": "code",
   "execution_count": 82,
   "id": "c2be5b57-7eed-45ef-9eb1-7f590c709fda",
   "metadata": {},
   "outputs": [
    {
     "data": {
      "text/plain": [
       "10.666666666666666"
      ]
     },
     "execution_count": 82,
     "metadata": {},
     "output_type": "execute_result"
    }
   ],
   "source": [
    "8/3*4"
   ]
  },
  {
   "cell_type": "code",
   "execution_count": 84,
   "id": "65105c72-9a39-4f2e-8bc4-4157438a171f",
   "metadata": {},
   "outputs": [
    {
     "data": {
      "text/plain": [
       "-4"
      ]
     },
     "execution_count": 84,
     "metadata": {},
     "output_type": "execute_result"
    }
   ],
   "source": [
    "8-3*4"
   ]
  },
  {
   "cell_type": "code",
   "execution_count": 86,
   "id": "a81a34ae-ad9a-417b-a7be-ab65ba02e024",
   "metadata": {},
   "outputs": [],
   "source": [
    "a=1\n",
    "b=2\n",
    "c=4\n",
    "d=6"
   ]
  },
  {
   "cell_type": "code",
   "execution_count": 88,
   "id": "ce6bcb91-2651-4d1c-ba0c-d137c2e02e88",
   "metadata": {},
   "outputs": [
    {
     "data": {
      "text/plain": [
       "0"
      ]
     },
     "execution_count": 88,
     "metadata": {},
     "output_type": "execute_result"
    }
   ],
   "source": [
    "(a+b)//c*d"
   ]
  },
  {
   "cell_type": "code",
   "execution_count": 90,
   "id": "a78b9dd5-2aee-4b6d-aa63-07c8f05e1c46",
   "metadata": {},
   "outputs": [
    {
     "data": {
      "text/plain": [
       "0"
      ]
     },
     "execution_count": 90,
     "metadata": {},
     "output_type": "execute_result"
    }
   ],
   "source": [
    "(b+c)//a%d"
   ]
  },
  {
   "cell_type": "code",
   "execution_count": 92,
   "id": "de06dcc6-483b-419a-b02a-714e8e178a5a",
   "metadata": {},
   "outputs": [
    {
     "data": {
      "text/plain": [
       "0"
      ]
     },
     "execution_count": 92,
     "metadata": {},
     "output_type": "execute_result"
    }
   ],
   "source": [
    "(a+b)//c%d"
   ]
  },
  {
   "cell_type": "code",
   "execution_count": 94,
   "id": "e567b7f2-fd56-498b-b226-aa06b7b02bbd",
   "metadata": {},
   "outputs": [
    {
     "data": {
      "text/plain": [
       "-4"
      ]
     },
     "execution_count": 94,
     "metadata": {},
     "output_type": "execute_result"
    }
   ],
   "source": [
    "(a+b)//d-c"
   ]
  },
  {
   "cell_type": "code",
   "execution_count": 96,
   "id": "ea40c096-bca2-4e84-aae6-6040d4602a49",
   "metadata": {},
   "outputs": [
    {
     "name": "stdout",
     "output_type": "stream",
     "text": [
      "is easyeasy\n"
     ]
    }
   ],
   "source": [
    "s=\"Python is easy\"\n",
    "s1=s[-7:]\n",
    "s2=s[-4:]\n",
    "print(s1+s2)"
   ]
  },
  {
   "cell_type": "code",
   "execution_count": null,
   "id": "5cc9767f-18c1-43f4-a4ec-d138a9939586",
   "metadata": {},
   "outputs": [],
   "source": [
    "n=69438\n",
    "\n",
    "while True:\n",
    "    print(\"No is :\",n)\n",
    "    s=str(n)\n",
    "    rev=int(s[::-1])\n",
    "    print(\"Reverse is \",rev)\n",
    "    summ=n+rev\n",
    "    print(\"Sum is \",summ)\n",
    "    st=str9"
   ]
  }
 ],
 "metadata": {
  "kernelspec": {
   "display_name": "Python [conda env:base] *",
   "language": "python",
   "name": "conda-base-py"
  },
  "language_info": {
   "codemirror_mode": {
    "name": "ipython",
    "version": 3
   },
   "file_extension": ".py",
   "mimetype": "text/x-python",
   "name": "python",
   "nbconvert_exporter": "python",
   "pygments_lexer": "ipython3",
   "version": "3.12.7"
  }
 },
 "nbformat": 4,
 "nbformat_minor": 5
}
