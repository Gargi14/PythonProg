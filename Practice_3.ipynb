{
 "cells": [
  {
   "cell_type": "code",
   "execution_count": 1,
   "id": "35574c9a-61a8-45db-8f7a-75b8034b3d97",
   "metadata": {},
   "outputs": [],
   "source": [
    "a=12\n",
    "b=4\n",
    "s='He shall not be happy if he does not work'"
   ]
  },
  {
   "cell_type": "code",
   "execution_count": 3,
   "id": "59f04b6c-255b-425b-a4c7-7e44dd3ede1f",
   "metadata": {},
   "outputs": [],
   "source": [
    "result=s.find('not') if s else None"
   ]
  },
  {
   "cell_type": "code",
   "execution_count": 5,
   "id": "20173cb8-9c3e-421b-946c-6f7540900456",
   "metadata": {},
   "outputs": [
    {
     "data": {
      "text/plain": [
       "9"
      ]
     },
     "execution_count": 5,
     "metadata": {},
     "output_type": "execute_result"
    }
   ],
   "source": [
    "result"
   ]
  },
  {
   "cell_type": "code",
   "execution_count": 7,
   "id": "16dc1f5c-2ebc-4faf-8bf1-2564226c35b2",
   "metadata": {},
   "outputs": [
    {
     "name": "stdout",
     "output_type": "stream",
     "text": [
      "2\n"
     ]
    }
   ],
   "source": [
    "l=[10,20,[30,40],[50,60]]\n",
    "count=0\n",
    "for i in range(len(l)):\n",
    "    if type(l[i])==list:\n",
    "        count=count+1\n",
    "print(count)"
   ]
  },
  {
   "cell_type": "code",
   "execution_count": 13,
   "id": "cc8b6af4-024d-449c-909a-aa5a4fb1476d",
   "metadata": {},
   "outputs": [
    {
     "name": "stdout",
     "output_type": "stream",
     "text": [
      "1\n"
     ]
    }
   ],
   "source": [
    "values=[[3,4,5,1],[33,6,1,2]]\n",
    "v=values[0][0]\n",
    "for lst in values:\n",
    "    for element in lst:\n",
    "        if v>element:\n",
    "            v=element\n",
    "print(v)"
   ]
  },
  {
   "cell_type": "code",
   "execution_count": 21,
   "id": "2abe1235-0c00-475c-adeb-9620139b76f5",
   "metadata": {},
   "outputs": [
    {
     "data": {
      "text/plain": [
       "'1020'"
      ]
     },
     "execution_count": 21,
     "metadata": {},
     "output_type": "execute_result"
    }
   ],
   "source": [
    "def f1(x=0,y=0):\n",
    "    return x+y\n",
    "\n",
    "f1(10)\n",
    "f1(0)\n",
    "f1('10','20')"
   ]
  },
  {
   "cell_type": "code",
   "execution_count": 23,
   "id": "15b11c3a-6b02-4164-822e-1fae2c58b680",
   "metadata": {},
   "outputs": [],
   "source": [
    "def f1(x=0,y=0):\n",
    "    return x*y"
   ]
  },
  {
   "cell_type": "code",
   "execution_count": 25,
   "id": "ff6a8959-fafe-4c81-9b48-7ab59e5c55b0",
   "metadata": {},
   "outputs": [
    {
     "data": {
      "text/plain": [
       "0"
      ]
     },
     "execution_count": 25,
     "metadata": {},
     "output_type": "execute_result"
    }
   ],
   "source": [
    "f1()"
   ]
  },
  {
   "cell_type": "code",
   "execution_count": 27,
   "id": "6638d194-5132-4e7e-b9e4-63c10590ef09",
   "metadata": {},
   "outputs": [
    {
     "data": {
      "text/plain": [
       "0"
      ]
     },
     "execution_count": 27,
     "metadata": {},
     "output_type": "execute_result"
    }
   ],
   "source": [
    "f1(10)"
   ]
  },
  {
   "cell_type": "code",
   "execution_count": 29,
   "id": "9d98fcf7-9a32-4fb8-a24f-159ab7456e31",
   "metadata": {},
   "outputs": [
    {
     "data": {
      "text/plain": [
       "''"
      ]
     },
     "execution_count": 29,
     "metadata": {},
     "output_type": "execute_result"
    }
   ],
   "source": [
    "f1('10')"
   ]
  },
  {
   "cell_type": "code",
   "execution_count": 31,
   "id": "cb29a740-e809-491d-83a7-758909a5273f",
   "metadata": {},
   "outputs": [
    {
     "name": "stdout",
     "output_type": "stream",
     "text": [
      "2\n",
      "3\n",
      "5\n",
      "7\n",
      "11\n",
      "13\n",
      "17\n",
      "19\n",
      "23\n",
      "29\n",
      "31\n",
      "37\n",
      "41\n",
      "43\n",
      "47\n",
      "53\n",
      "59\n",
      "61\n",
      "67\n",
      "71\n",
      "73\n",
      "79\n",
      "83\n",
      "89\n",
      "97\n",
      "101\n",
      "103\n",
      "107\n",
      "109\n",
      "113\n",
      "127\n",
      "131\n",
      "137\n",
      "139\n",
      "149\n",
      "151\n",
      "157\n",
      "163\n",
      "167\n",
      "173\n",
      "179\n",
      "181\n",
      "191\n",
      "193\n",
      "197\n",
      "199\n"
     ]
    }
   ],
   "source": [
    "p=2\n",
    "while p<=200:\n",
    "    is_prime=True\n",
    "    for i in range(2,p):\n",
    "        if p%i==0:\n",
    "            is_prime=False\n",
    "            break\n",
    "\n",
    "    if is_prime==True:\n",
    "        print(p)\n",
    "    p=p+1\n",
    "        "
   ]
  },
  {
   "cell_type": "code",
   "execution_count": null,
   "id": "ff54ead4-3e5f-4365-a22f-df1ab81ff41f",
   "metadata": {},
   "outputs": [],
   "source": []
  }
 ],
 "metadata": {
  "kernelspec": {
   "display_name": "Python [conda env:base] *",
   "language": "python",
   "name": "conda-base-py"
  },
  "language_info": {
   "codemirror_mode": {
    "name": "ipython",
    "version": 3
   },
   "file_extension": ".py",
   "mimetype": "text/x-python",
   "name": "python",
   "nbconvert_exporter": "python",
   "pygments_lexer": "ipython3",
   "version": "3.12.7"
  }
 },
 "nbformat": 4,
 "nbformat_minor": 5
}
