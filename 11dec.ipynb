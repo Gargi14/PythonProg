{
 "cells": [
  {
   "cell_type": "code",
   "execution_count": 1,
   "id": "0dea9e9a-0466-4a54-b663-f35698ae2ca9",
   "metadata": {},
   "outputs": [
    {
     "data": {
      "text/plain": [
       "1"
      ]
     },
     "execution_count": 1,
     "metadata": {},
     "output_type": "execute_result"
    }
   ],
   "source": [
    "7-2*3"
   ]
  },
  {
   "cell_type": "code",
   "execution_count": 3,
   "id": "23b31acf-14d8-40db-be22-d2796f01e245",
   "metadata": {},
   "outputs": [
    {
     "data": {
      "text/plain": [
       "0"
      ]
     },
     "execution_count": 3,
     "metadata": {},
     "output_type": "execute_result"
    }
   ],
   "source": [
    "7//2-3"
   ]
  },
  {
   "cell_type": "code",
   "execution_count": 5,
   "id": "adbd621c-6c97-4eb9-baa0-9aa85e6ed0c0",
   "metadata": {},
   "outputs": [
    {
     "data": {
      "text/plain": [
       "10.5"
      ]
     },
     "execution_count": 5,
     "metadata": {},
     "output_type": "execute_result"
    }
   ],
   "source": [
    "7/2*3"
   ]
  },
  {
   "cell_type": "code",
   "execution_count": 7,
   "id": "b30fb0a7-f323-4d8a-af4c-ea640be65dc3",
   "metadata": {},
   "outputs": [
    {
     "data": {
      "text/plain": [
       "4"
      ]
     },
     "execution_count": 7,
     "metadata": {},
     "output_type": "execute_result"
    }
   ],
   "source": [
    "7%2+3"
   ]
  },
  {
   "cell_type": "code",
   "execution_count": 9,
   "id": "8cd769e1-8691-4d23-a45a-5988211e95a9",
   "metadata": {},
   "outputs": [],
   "source": [
    "x=3\n",
    "x+=1\n",
    "x**=2"
   ]
  },
  {
   "cell_type": "code",
   "execution_count": 11,
   "id": "0f859c68-61ef-4974-8963-e947d32cc8b3",
   "metadata": {},
   "outputs": [
    {
     "data": {
      "text/plain": [
       "16"
      ]
     },
     "execution_count": 11,
     "metadata": {},
     "output_type": "execute_result"
    }
   ],
   "source": [
    "x"
   ]
  },
  {
   "cell_type": "code",
   "execution_count": 13,
   "id": "b611fd10-c0a2-4c1c-9688-d5cce85f243c",
   "metadata": {},
   "outputs": [
    {
     "name": "stdin",
     "output_type": "stream",
     "text": [
      "Enter some value: 10\n"
     ]
    },
    {
     "name": "stdout",
     "output_type": "stream",
     "text": [
      "<class 'str'>\n"
     ]
    }
   ],
   "source": [
    "print(type(input('Enter some value:')))"
   ]
  },
  {
   "cell_type": "code",
   "execution_count": 15,
   "id": "6ee82ee2-dae1-4b48-8746-5199e3022136",
   "metadata": {},
   "outputs": [
    {
     "name": "stdin",
     "output_type": "stream",
     "text": [
      "Enter some value: 10.0\n"
     ]
    },
    {
     "name": "stdout",
     "output_type": "stream",
     "text": [
      "<class 'str'>\n"
     ]
    }
   ],
   "source": [
    "print(type(input('Enter some value:')))"
   ]
  },
  {
   "cell_type": "code",
   "execution_count": 19,
   "id": "e9bcf9c1-859f-4a36-82df-774363049c01",
   "metadata": {},
   "outputs": [
    {
     "name": "stderr",
     "output_type": "stream",
     "text": [
      "\n",
      "KeyboardInterrupt\n",
      "\n"
     ]
    }
   ],
   "source": [
    "a=['a','b','c','d']\n",
    "for i in a:\n",
    "    a.append(i.upper())\n",
    "print(a)   #memory error thrown at runtime"
   ]
  },
  {
   "cell_type": "code",
   "execution_count": 26,
   "id": "7aba2bf2-1c80-43b8-94e5-33e720eac2e8",
   "metadata": {},
   "outputs": [
    {
     "data": {
      "text/plain": [
       "'55'"
      ]
     },
     "execution_count": 26,
     "metadata": {},
     "output_type": "execute_result"
    }
   ],
   "source": [
    "a='5'\n",
    "b='2'\n",
    "a*2"
   ]
  },
  {
   "cell_type": "code",
   "execution_count": 28,
   "id": "6a723244-4b39-4ecb-a25b-a22ea548222d",
   "metadata": {},
   "outputs": [
    {
     "data": {
      "text/plain": [
       "'52'"
      ]
     },
     "execution_count": 28,
     "metadata": {},
     "output_type": "execute_result"
    }
   ],
   "source": [
    "a+b"
   ]
  },
  {
   "cell_type": "code",
   "execution_count": 34,
   "id": "1a7df928-d9dc-4be8-9f1d-d8bcc2dee207",
   "metadata": {},
   "outputs": [
    {
     "data": {
      "text/plain": [
       "9"
      ]
     },
     "execution_count": 34,
     "metadata": {},
     "output_type": "execute_result"
    }
   ],
   "source": [
    "a=7\n",
    "b=3\n",
    "c=5\n",
    "d=1\n",
    "output=a+d*2\n",
    "output"
   ]
  },
  {
   "cell_type": "code",
   "execution_count": 36,
   "id": "50435681-0ea8-4899-9366-56f81370abe6",
   "metadata": {},
   "outputs": [
    {
     "data": {
      "text/plain": [
       "9"
      ]
     },
     "execution_count": 36,
     "metadata": {},
     "output_type": "execute_result"
    }
   ],
   "source": [
    "6//4%5+2**3-2//3"
   ]
  },
  {
   "cell_type": "code",
   "execution_count": 38,
   "id": "42fdee77-4332-4cf8-9e1e-f59b0f450a44",
   "metadata": {},
   "outputs": [
    {
     "name": "stdout",
     "output_type": "stream",
     "text": [
      "False\n"
     ]
    }
   ],
   "source": [
    "x=[1,2,3]\n",
    "y=[1,2,3]\n",
    "print(x is y)"
   ]
  },
  {
   "cell_type": "code",
   "execution_count": 40,
   "id": "8a4def63-eeb8-4213-a4d5-101b6a03f2a6",
   "metadata": {},
   "outputs": [
    {
     "name": "stdout",
     "output_type": "stream",
     "text": [
      "10\n"
     ]
    }
   ],
   "source": [
    "x=2\n",
    "y=6\n",
    "x+=2**3\n",
    "x\n",
    "print(x)"
   ]
  },
  {
   "cell_type": "code",
   "execution_count": 44,
   "id": "907252cd-998c-4588-87c2-072f50359013",
   "metadata": {},
   "outputs": [
    {
     "data": {
      "text/plain": [
       "25.0"
      ]
     },
     "execution_count": 44,
     "metadata": {},
     "output_type": "execute_result"
    }
   ],
   "source": [
    "x=3/3+3**3-3\n",
    "x"
   ]
  },
  {
   "cell_type": "code",
   "execution_count": 46,
   "id": "461b2128-e568-4524-9231-ab2646104526",
   "metadata": {},
   "outputs": [],
   "source": [
    "res=str(bool(1) + float(10)/float(2))"
   ]
  },
  {
   "cell_type": "code",
   "execution_count": 48,
   "id": "c0ff754a-bded-411d-a148-6b0b962ba86e",
   "metadata": {},
   "outputs": [
    {
     "data": {
      "text/plain": [
       "'6.0'"
      ]
     },
     "execution_count": 48,
     "metadata": {},
     "output_type": "execute_result"
    }
   ],
   "source": [
    "res"
   ]
  },
  {
   "cell_type": "code",
   "execution_count": 54,
   "id": "b79023d1-71e3-4836-b333-c0fd35e0e1f1",
   "metadata": {},
   "outputs": [
    {
     "name": "stdout",
     "output_type": "stream",
     "text": [
      "True\n"
     ]
    }
   ],
   "source": [
    "print(not 0)"
   ]
  },
  {
   "cell_type": "raw",
   "id": "c60f91d3-d3fc-4dc0-878d-9948435e7c96",
   "metadata": {},
   "source": [
    "print(not '')"
   ]
  },
  {
   "cell_type": "code",
   "execution_count": 56,
   "id": "3e466a74-a143-49d4-93ea-71b5d761b395",
   "metadata": {},
   "outputs": [
    {
     "data": {
      "text/plain": [
       "int"
      ]
     },
     "execution_count": 56,
     "metadata": {},
     "output_type": "execute_result"
    }
   ],
   "source": [
    "x=2**2**2\n",
    "type(x)"
   ]
  },
  {
   "cell_type": "code",
   "execution_count": 58,
   "id": "87ff6d54-9b62-400f-b415-2326e2fe0933",
   "metadata": {},
   "outputs": [],
   "source": [
    "b=False+5-True+35//4"
   ]
  },
  {
   "cell_type": "code",
   "execution_count": 60,
   "id": "d51c923d-a92b-40f4-ba44-c1d5e07c28a5",
   "metadata": {},
   "outputs": [
    {
     "data": {
      "text/plain": [
       "12"
      ]
     },
     "execution_count": 60,
     "metadata": {},
     "output_type": "execute_result"
    }
   ],
   "source": [
    "b"
   ]
  },
  {
   "cell_type": "code",
   "execution_count": 64,
   "id": "730d83d6-8624-4e76-8bbe-c4128ae20013",
   "metadata": {},
   "outputs": [
    {
     "data": {
      "text/plain": [
       "4.5"
      ]
     },
     "execution_count": 64,
     "metadata": {},
     "output_type": "execute_result"
    }
   ],
   "source": [
    "a=7/2+(False or True)+(9%3)\n",
    "a"
   ]
  },
  {
   "cell_type": "code",
   "execution_count": 66,
   "id": "26079bc1-619a-441f-92e3-61de09ce20f1",
   "metadata": {},
   "outputs": [
    {
     "name": "stdout",
     "output_type": "stream",
     "text": [
      "False\n",
      "True\n"
     ]
    }
   ],
   "source": [
    "lst=[7,8,9]\n",
    "b=lst[:]\n",
    "print(b in lst)\n",
    "print(b == lst)"
   ]
  },
  {
   "cell_type": "code",
   "execution_count": null,
   "id": "107e5d70-0946-4f00-b5e8-9ad894cee8e8",
   "metadata": {},
   "outputs": [],
   "source": []
  }
 ],
 "metadata": {
  "kernelspec": {
   "display_name": "Python [conda env:base] *",
   "language": "python",
   "name": "conda-base-py"
  },
  "language_info": {
   "codemirror_mode": {
    "name": "ipython",
    "version": 3
   },
   "file_extension": ".py",
   "mimetype": "text/x-python",
   "name": "python",
   "nbconvert_exporter": "python",
   "pygments_lexer": "ipython3",
   "version": "3.12.7"
  }
 },
 "nbformat": 4,
 "nbformat_minor": 5
}
